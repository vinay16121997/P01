{
  "nbformat": 4,
  "nbformat_minor": 0,
  "metadata": {
    "colab": {
      "name": "Currency_Classifier.ipynb",
      "provenance": []
    },
    "kernelspec": {
      "name": "python3",
      "display_name": "Python 3"
    },
    "language_info": {
      "name": "python"
    },
    "accelerator": "GPU"
  },
  "cells": [
    {
      "cell_type": "code",
      "execution_count": 3,
      "metadata": {
        "id": "MSk2Lae8atJL",
        "colab": {
          "base_uri": "https://localhost:8080/"
        },
        "outputId": "f10fa298-1f8d-449c-ee26-e668cb4cd97e"
      },
      "outputs": [
        {
          "output_type": "stream",
          "name": "stdout",
          "text": [
            "Requirement already satisfied: opencv-python in /usr/local/lib/python3.7/dist-packages (4.1.2.30)\n",
            "Requirement already satisfied: numpy>=1.14.5 in /usr/local/lib/python3.7/dist-packages (from opencv-python) (1.19.5)\n"
          ]
        }
      ],
      "source": [
        "pip install opencv-python"
      ]
    },
    {
      "cell_type": "code",
      "source": [
        "import os\n",
        "import cv2"
      ],
      "metadata": {
        "id": "lTtWDfgPnToJ"
      },
      "execution_count": 4,
      "outputs": []
    },
    {
      "cell_type": "code",
      "source": [
        "categories = [\"1Hundrednote\",\"2Hundrednote\",\"5Hundrednote\",\"2Thousandnote\",\"Fiftynote\",\"Tennote\",\"Twentynote\"]"
      ],
      "metadata": {
        "id": "DkGLbt1ao1NU"
      },
      "execution_count": 31,
      "outputs": []
    },
    {
      "cell_type": "code",
      "source": [
        "data = []\n",
        "for category in categories:\n",
        "    path = os.path.join('/content/drive/MyDrive/Train',category)\n",
        "    label = categories.index(category)\n",
        "    \n",
        "    for file in os.listdir(path):\n",
        "        img_path = os.path.join(path,file)\n",
        "        img = cv2.imread(img_path)\n",
        "        img = cv2.resize(img,(224,224))\n",
        "        \n",
        "        data.append([img,label])"
      ],
      "metadata": {
        "id": "S9KlkToco-1W"
      },
      "execution_count": 6,
      "outputs": []
    },
    {
      "cell_type": "code",
      "source": [
        "len(data)"
      ],
      "metadata": {
        "colab": {
          "base_uri": "https://localhost:8080/"
        },
        "id": "AAybkQMxpOKX",
        "outputId": "9a2f36db-d992-4986-a18c-5228ca55c17e"
      },
      "execution_count": 7,
      "outputs": [
        {
          "output_type": "execute_result",
          "data": {
            "text/plain": [
              "178"
            ]
          },
          "metadata": {},
          "execution_count": 7
        }
      ]
    },
    {
      "cell_type": "code",
      "source": [
        "import random\n",
        "random.shuffle(data)"
      ],
      "metadata": {
        "id": "wIZSri6ipgvp"
      },
      "execution_count": 8,
      "outputs": []
    },
    {
      "cell_type": "code",
      "source": [
        "X = []\n",
        "y = []\n",
        "\n",
        "for feature, target in data:\n",
        "    X.append(feature)\n",
        "    y.append(target)"
      ],
      "metadata": {
        "id": "c3pSMwfqpkfN"
      },
      "execution_count": 9,
      "outputs": []
    },
    {
      "cell_type": "code",
      "source": [
        "import numpy as np\n",
        "\n",
        "X = np.array(X)\n",
        "y = np.array(y)"
      ],
      "metadata": {
        "id": "KvCBwEf3pndS"
      },
      "execution_count": 10,
      "outputs": []
    },
    {
      "cell_type": "code",
      "source": [
        "X.shape"
      ],
      "metadata": {
        "colab": {
          "base_uri": "https://localhost:8080/"
        },
        "id": "zstK-_hjpp91",
        "outputId": "f154c2d2-4cb3-4b9d-a618-52dbd84f7643"
      },
      "execution_count": 11,
      "outputs": [
        {
          "output_type": "execute_result",
          "data": {
            "text/plain": [
              "(178, 224, 224, 3)"
            ]
          },
          "metadata": {},
          "execution_count": 11
        }
      ]
    },
    {
      "cell_type": "code",
      "source": [
        "X = X/255"
      ],
      "metadata": {
        "id": "K2xh46rUptE-"
      },
      "execution_count": 12,
      "outputs": []
    },
    {
      "cell_type": "code",
      "source": [
        "import pandas as pd\n",
        "y = pd.get_dummies(y)"
      ],
      "metadata": {
        "id": "nfP2aMYBzmHv"
      },
      "execution_count": 13,
      "outputs": []
    },
    {
      "cell_type": "code",
      "source": [
        "from sklearn.model_selection import train_test_split\n",
        "X_train,X_test,y_train,y_test = train_test_split(X,y, test_size=.2)"
      ],
      "metadata": {
        "id": "pSHGqSnPpvxi"
      },
      "execution_count": 14,
      "outputs": []
    },
    {
      "cell_type": "code",
      "source": [
        "import tensorflow as tf"
      ],
      "metadata": {
        "id": "jDpR6ia5pz-3"
      },
      "execution_count": 15,
      "outputs": []
    },
    {
      "cell_type": "code",
      "source": [
        "from keras.applications.vgg16 import VGG16"
      ],
      "metadata": {
        "id": "CieshblEp-uG"
      },
      "execution_count": 16,
      "outputs": []
    },
    {
      "cell_type": "code",
      "source": [
        "vgg = VGG16()"
      ],
      "metadata": {
        "id": "f7nL-tv5rVyi",
        "colab": {
          "base_uri": "https://localhost:8080/"
        },
        "outputId": "713d77a2-a717-46ba-a980-617a11ac712f"
      },
      "execution_count": 17,
      "outputs": [
        {
          "output_type": "stream",
          "name": "stdout",
          "text": [
            "Downloading data from https://storage.googleapis.com/tensorflow/keras-applications/vgg16/vgg16_weights_tf_dim_ordering_tf_kernels.h5\n",
            "553467904/553467096 [==============================] - 4s 0us/step\n",
            "553476096/553467096 [==============================] - 4s 0us/step\n"
          ]
        }
      ]
    },
    {
      "cell_type": "code",
      "source": [
        "vgg.summary()"
      ],
      "metadata": {
        "colab": {
          "base_uri": "https://localhost:8080/"
        },
        "id": "m2dzVypTrlF9",
        "outputId": "c2a45dc1-9baa-4f10-b6ba-7d3db656ceaa"
      },
      "execution_count": 18,
      "outputs": [
        {
          "output_type": "stream",
          "name": "stdout",
          "text": [
            "Model: \"vgg16\"\n",
            "_________________________________________________________________\n",
            " Layer (type)                Output Shape              Param #   \n",
            "=================================================================\n",
            " input_1 (InputLayer)        [(None, 224, 224, 3)]     0         \n",
            "                                                                 \n",
            " block1_conv1 (Conv2D)       (None, 224, 224, 64)      1792      \n",
            "                                                                 \n",
            " block1_conv2 (Conv2D)       (None, 224, 224, 64)      36928     \n",
            "                                                                 \n",
            " block1_pool (MaxPooling2D)  (None, 112, 112, 64)      0         \n",
            "                                                                 \n",
            " block2_conv1 (Conv2D)       (None, 112, 112, 128)     73856     \n",
            "                                                                 \n",
            " block2_conv2 (Conv2D)       (None, 112, 112, 128)     147584    \n",
            "                                                                 \n",
            " block2_pool (MaxPooling2D)  (None, 56, 56, 128)       0         \n",
            "                                                                 \n",
            " block3_conv1 (Conv2D)       (None, 56, 56, 256)       295168    \n",
            "                                                                 \n",
            " block3_conv2 (Conv2D)       (None, 56, 56, 256)       590080    \n",
            "                                                                 \n",
            " block3_conv3 (Conv2D)       (None, 56, 56, 256)       590080    \n",
            "                                                                 \n",
            " block3_pool (MaxPooling2D)  (None, 28, 28, 256)       0         \n",
            "                                                                 \n",
            " block4_conv1 (Conv2D)       (None, 28, 28, 512)       1180160   \n",
            "                                                                 \n",
            " block4_conv2 (Conv2D)       (None, 28, 28, 512)       2359808   \n",
            "                                                                 \n",
            " block4_conv3 (Conv2D)       (None, 28, 28, 512)       2359808   \n",
            "                                                                 \n",
            " block4_pool (MaxPooling2D)  (None, 14, 14, 512)       0         \n",
            "                                                                 \n",
            " block5_conv1 (Conv2D)       (None, 14, 14, 512)       2359808   \n",
            "                                                                 \n",
            " block5_conv2 (Conv2D)       (None, 14, 14, 512)       2359808   \n",
            "                                                                 \n",
            " block5_conv3 (Conv2D)       (None, 14, 14, 512)       2359808   \n",
            "                                                                 \n",
            " block5_pool (MaxPooling2D)  (None, 7, 7, 512)         0         \n",
            "                                                                 \n",
            " flatten (Flatten)           (None, 25088)             0         \n",
            "                                                                 \n",
            " fc1 (Dense)                 (None, 4096)              102764544 \n",
            "                                                                 \n",
            " fc2 (Dense)                 (None, 4096)              16781312  \n",
            "                                                                 \n",
            " predictions (Dense)         (None, 1000)              4097000   \n",
            "                                                                 \n",
            "=================================================================\n",
            "Total params: 138,357,544\n",
            "Trainable params: 138,357,544\n",
            "Non-trainable params: 0\n",
            "_________________________________________________________________\n"
          ]
        }
      ]
    },
    {
      "cell_type": "code",
      "source": [
        "model = tf.keras.Sequential()\n",
        "\n",
        "for layer in vgg.layers[:-1]:\n",
        "  model.add(layer)\n",
        "  "
      ],
      "metadata": {
        "id": "3dHvc-Nnrrea"
      },
      "execution_count": 19,
      "outputs": []
    },
    {
      "cell_type": "code",
      "source": [
        "for layer in model.layers:\n",
        "  layer.trainable = False"
      ],
      "metadata": {
        "id": "dq6JuUuisUGz"
      },
      "execution_count": 20,
      "outputs": []
    },
    {
      "cell_type": "code",
      "source": [
        "model.add(tf.keras.layers.Dense(7, activation=\"softmax\"))"
      ],
      "metadata": {
        "id": "oS26sBkHtFfM"
      },
      "execution_count": 21,
      "outputs": []
    },
    {
      "cell_type": "code",
      "source": [
        "model.compile(optimizer=\"adam\", loss=\"categorical_crossentropy\", metrics=\"accuracy\" )"
      ],
      "metadata": {
        "id": "WEWB67-YtiU9"
      },
      "execution_count": 22,
      "outputs": []
    },
    {
      "cell_type": "code",
      "source": [
        "model.fit(X_train, y_train, epochs=50, validation_data=(X_test, y_test))"
      ],
      "metadata": {
        "colab": {
          "base_uri": "https://localhost:8080/"
        },
        "id": "2-uW6naiu2B_",
        "outputId": "42012500-8a2d-4566-90fd-197996a8e851"
      },
      "execution_count": 77,
      "outputs": [
        {
          "output_type": "stream",
          "name": "stdout",
          "text": [
            "Epoch 1/50\n",
            "5/5 [==============================] - 1s 171ms/step - loss: 0.3600 - accuracy: 0.9789 - val_loss: 0.7037 - val_accuracy: 0.8056\n",
            "Epoch 2/50\n",
            "5/5 [==============================] - 1s 148ms/step - loss: 0.3390 - accuracy: 0.9648 - val_loss: 0.6709 - val_accuracy: 0.8333\n",
            "Epoch 3/50\n",
            "5/5 [==============================] - 1s 149ms/step - loss: 0.3471 - accuracy: 0.9789 - val_loss: 0.7431 - val_accuracy: 0.7778\n",
            "Epoch 4/50\n",
            "5/5 [==============================] - 1s 147ms/step - loss: 0.3359 - accuracy: 0.9718 - val_loss: 0.6695 - val_accuracy: 0.8333\n",
            "Epoch 5/50\n",
            "5/5 [==============================] - 1s 147ms/step - loss: 0.3273 - accuracy: 0.9789 - val_loss: 0.7697 - val_accuracy: 0.7778\n",
            "Epoch 6/50\n",
            "5/5 [==============================] - 1s 149ms/step - loss: 0.3234 - accuracy: 0.9930 - val_loss: 0.6795 - val_accuracy: 0.7222\n",
            "Epoch 7/50\n",
            "5/5 [==============================] - 1s 149ms/step - loss: 0.3225 - accuracy: 0.9718 - val_loss: 0.6960 - val_accuracy: 0.7778\n",
            "Epoch 8/50\n",
            "5/5 [==============================] - 1s 148ms/step - loss: 0.3320 - accuracy: 0.9789 - val_loss: 0.7728 - val_accuracy: 0.7778\n",
            "Epoch 9/50\n",
            "5/5 [==============================] - 1s 147ms/step - loss: 0.3221 - accuracy: 0.9789 - val_loss: 0.6662 - val_accuracy: 0.7778\n",
            "Epoch 10/50\n",
            "5/5 [==============================] - 1s 186ms/step - loss: 0.3155 - accuracy: 0.9859 - val_loss: 0.7268 - val_accuracy: 0.7778\n",
            "Epoch 11/50\n",
            "5/5 [==============================] - 1s 148ms/step - loss: 0.3107 - accuracy: 0.9859 - val_loss: 0.7039 - val_accuracy: 0.7222\n",
            "Epoch 12/50\n",
            "5/5 [==============================] - 1s 148ms/step - loss: 0.2946 - accuracy: 0.9930 - val_loss: 0.7293 - val_accuracy: 0.7778\n",
            "Epoch 13/50\n",
            "5/5 [==============================] - 1s 148ms/step - loss: 0.3210 - accuracy: 0.9789 - val_loss: 0.6577 - val_accuracy: 0.8056\n",
            "Epoch 14/50\n",
            "5/5 [==============================] - 1s 148ms/step - loss: 0.3213 - accuracy: 0.9789 - val_loss: 0.7165 - val_accuracy: 0.6944\n",
            "Epoch 15/50\n",
            "5/5 [==============================] - 1s 149ms/step - loss: 0.2840 - accuracy: 0.9859 - val_loss: 0.6865 - val_accuracy: 0.7778\n",
            "Epoch 16/50\n",
            "5/5 [==============================] - 1s 150ms/step - loss: 0.2967 - accuracy: 0.9789 - val_loss: 0.6568 - val_accuracy: 0.8056\n",
            "Epoch 17/50\n",
            "5/5 [==============================] - 1s 149ms/step - loss: 0.3062 - accuracy: 0.9859 - val_loss: 0.7345 - val_accuracy: 0.7500\n",
            "Epoch 18/50\n",
            "5/5 [==============================] - 1s 147ms/step - loss: 0.2956 - accuracy: 0.9789 - val_loss: 0.6347 - val_accuracy: 0.8056\n",
            "Epoch 19/50\n",
            "5/5 [==============================] - 1s 152ms/step - loss: 0.2943 - accuracy: 0.9859 - val_loss: 0.7463 - val_accuracy: 0.6944\n",
            "Epoch 20/50\n",
            "5/5 [==============================] - 1s 144ms/step - loss: 0.3023 - accuracy: 0.9718 - val_loss: 0.6452 - val_accuracy: 0.8056\n",
            "Epoch 21/50\n",
            "5/5 [==============================] - 1s 151ms/step - loss: 0.2759 - accuracy: 0.9789 - val_loss: 0.7430 - val_accuracy: 0.7778\n",
            "Epoch 22/50\n",
            "5/5 [==============================] - 1s 150ms/step - loss: 0.2851 - accuracy: 0.9930 - val_loss: 0.6522 - val_accuracy: 0.8056\n",
            "Epoch 23/50\n",
            "5/5 [==============================] - 1s 148ms/step - loss: 0.3052 - accuracy: 0.9648 - val_loss: 0.7017 - val_accuracy: 0.7222\n",
            "Epoch 24/50\n",
            "5/5 [==============================] - 1s 149ms/step - loss: 0.2966 - accuracy: 0.9789 - val_loss: 0.7676 - val_accuracy: 0.7222\n",
            "Epoch 25/50\n",
            "5/5 [==============================] - 1s 150ms/step - loss: 0.2841 - accuracy: 0.9789 - val_loss: 0.6455 - val_accuracy: 0.8056\n",
            "Epoch 26/50\n",
            "5/5 [==============================] - 1s 150ms/step - loss: 0.2798 - accuracy: 0.9789 - val_loss: 0.6573 - val_accuracy: 0.7500\n",
            "Epoch 27/50\n",
            "5/5 [==============================] - 1s 151ms/step - loss: 0.2562 - accuracy: 1.0000 - val_loss: 0.6846 - val_accuracy: 0.7778\n",
            "Epoch 28/50\n",
            "5/5 [==============================] - 1s 152ms/step - loss: 0.2740 - accuracy: 0.9789 - val_loss: 0.6615 - val_accuracy: 0.7778\n",
            "Epoch 29/50\n",
            "5/5 [==============================] - 1s 151ms/step - loss: 0.2692 - accuracy: 0.9859 - val_loss: 0.6650 - val_accuracy: 0.7500\n",
            "Epoch 30/50\n",
            "5/5 [==============================] - 1s 148ms/step - loss: 0.2808 - accuracy: 0.9718 - val_loss: 0.6413 - val_accuracy: 0.8056\n",
            "Epoch 31/50\n",
            "5/5 [==============================] - 1s 152ms/step - loss: 0.2641 - accuracy: 1.0000 - val_loss: 0.6438 - val_accuracy: 0.7778\n",
            "Epoch 32/50\n",
            "5/5 [==============================] - 1s 150ms/step - loss: 0.2591 - accuracy: 0.9930 - val_loss: 0.6285 - val_accuracy: 0.8056\n",
            "Epoch 33/50\n",
            "5/5 [==============================] - 1s 150ms/step - loss: 0.2655 - accuracy: 0.9859 - val_loss: 0.6630 - val_accuracy: 0.7500\n",
            "Epoch 34/50\n",
            "5/5 [==============================] - 1s 151ms/step - loss: 0.2583 - accuracy: 0.9859 - val_loss: 0.6643 - val_accuracy: 0.7778\n",
            "Epoch 35/50\n",
            "5/5 [==============================] - 1s 151ms/step - loss: 0.2455 - accuracy: 0.9930 - val_loss: 0.6282 - val_accuracy: 0.7778\n",
            "Epoch 36/50\n",
            "5/5 [==============================] - 1s 148ms/step - loss: 0.2349 - accuracy: 1.0000 - val_loss: 0.6719 - val_accuracy: 0.8056\n",
            "Epoch 37/50\n",
            "5/5 [==============================] - 1s 152ms/step - loss: 0.2350 - accuracy: 0.9930 - val_loss: 0.6401 - val_accuracy: 0.7778\n",
            "Epoch 38/50\n",
            "5/5 [==============================] - 1s 152ms/step - loss: 0.2302 - accuracy: 0.9930 - val_loss: 0.6211 - val_accuracy: 0.8056\n",
            "Epoch 39/50\n",
            "5/5 [==============================] - 1s 152ms/step - loss: 0.2279 - accuracy: 1.0000 - val_loss: 0.6312 - val_accuracy: 0.7778\n",
            "Epoch 40/50\n",
            "5/5 [==============================] - 1s 151ms/step - loss: 0.2231 - accuracy: 1.0000 - val_loss: 0.6331 - val_accuracy: 0.8056\n",
            "Epoch 41/50\n",
            "5/5 [==============================] - 1s 148ms/step - loss: 0.2213 - accuracy: 0.9930 - val_loss: 0.6470 - val_accuracy: 0.7500\n",
            "Epoch 42/50\n",
            "5/5 [==============================] - 1s 151ms/step - loss: 0.2192 - accuracy: 1.0000 - val_loss: 0.6533 - val_accuracy: 0.7778\n",
            "Epoch 43/50\n",
            "5/5 [==============================] - 1s 150ms/step - loss: 0.2251 - accuracy: 1.0000 - val_loss: 0.6327 - val_accuracy: 0.7778\n",
            "Epoch 44/50\n",
            "5/5 [==============================] - 1s 151ms/step - loss: 0.2283 - accuracy: 0.9859 - val_loss: 0.6248 - val_accuracy: 0.7778\n",
            "Epoch 45/50\n",
            "5/5 [==============================] - 1s 152ms/step - loss: 0.2170 - accuracy: 1.0000 - val_loss: 0.6671 - val_accuracy: 0.7500\n",
            "Epoch 46/50\n",
            "5/5 [==============================] - 1s 152ms/step - loss: 0.2231 - accuracy: 0.9930 - val_loss: 0.6508 - val_accuracy: 0.8056\n",
            "Epoch 47/50\n",
            "5/5 [==============================] - 1s 151ms/step - loss: 0.2158 - accuracy: 1.0000 - val_loss: 0.5877 - val_accuracy: 0.8056\n",
            "Epoch 48/50\n",
            "5/5 [==============================] - 1s 152ms/step - loss: 0.2167 - accuracy: 1.0000 - val_loss: 0.6754 - val_accuracy: 0.7778\n",
            "Epoch 49/50\n",
            "5/5 [==============================] - 1s 152ms/step - loss: 0.2094 - accuracy: 1.0000 - val_loss: 0.6141 - val_accuracy: 0.8056\n",
            "Epoch 50/50\n",
            "5/5 [==============================] - 1s 152ms/step - loss: 0.2167 - accuracy: 0.9859 - val_loss: 0.5915 - val_accuracy: 0.8056\n"
          ]
        },
        {
          "output_type": "execute_result",
          "data": {
            "text/plain": [
              "<keras.callbacks.History at 0x7f1da7ddf050>"
            ]
          },
          "metadata": {},
          "execution_count": 77
        }
      ]
    },
    {
      "cell_type": "code",
      "source": [
        "y_pred = model.predict(X_test)"
      ],
      "metadata": {
        "id": "OtSYLnxOxR4I"
      },
      "execution_count": 24,
      "outputs": []
    },
    {
      "cell_type": "code",
      "source": [
        "#Creating framework for webapp\n",
        "def classify(img):\n",
        "  img = cv2.imread(img)\n",
        "  img = cv2.resize(img,(224,224))\n",
        "  y_pred = model.predict(img.reshape(1,224,224,3))\n",
        "  y_pred = y_pred.argmax()\n",
        "  output = categories[y_pred]\n",
        "  return output"
      ],
      "metadata": {
        "id": "baNz6J_91_5h"
      },
      "execution_count": 25,
      "outputs": []
    },
    {
      "cell_type": "code",
      "source": [
        "categories[1]"
      ],
      "metadata": {
        "colab": {
          "base_uri": "https://localhost:8080/",
          "height": 35
        },
        "id": "q6vLC43D9VV0",
        "outputId": "db0dea26-564b-474f-d685-a7025a58698a"
      },
      "execution_count": 27,
      "outputs": [
        {
          "output_type": "execute_result",
          "data": {
            "application/vnd.google.colaboratory.intrinsic+json": {
              "type": "string"
            },
            "text/plain": [
              "'2Hundrednote'"
            ]
          },
          "metadata": {},
          "execution_count": 27
        }
      ]
    },
    {
      "cell_type": "code",
      "source": [
        "# import pickle\n",
        "# filehandler = open(\"model.pkl\",\"wb\")\n",
        "# pickle.dump(model,filehandler)"
      ],
      "metadata": {
        "id": "ihprWjkk95pm"
      },
      "execution_count": 28,
      "outputs": []
    },
    {
      "cell_type": "code",
      "source": [
        "from keras.models import load_model\n",
        "model_1 = load_model('keras_model.h5')\n",
        "import cv2\n",
        "\n",
        "categs = [\"10_note\",\"20_note\",\"50_note\",\"100_note\",\"200_note\",\"500_note\",\"2000_note\"]\n",
        "\n",
        "def classify(img):\n",
        "  img = cv2.imread(img)\n",
        "  img = cv2.resize(img,(224,224))\n",
        "  y_pred = model_1.predict(img.reshape(1,224,224,3))\n",
        "  y_pred = y_pred.argmax()\n",
        "  output = categs[y_pred]\n",
        "  return output\n",
        "\n",
        "classify(\"5.jpg\")\n",
        "\n"
      ],
      "metadata": {
        "id": "wglpWrDGCDzH",
        "colab": {
          "base_uri": "https://localhost:8080/",
          "height": 90
        },
        "outputId": "0bccc0ec-7609-40ce-ae23-303c00d6af9a"
      },
      "execution_count": 46,
      "outputs": [
        {
          "output_type": "stream",
          "name": "stdout",
          "text": [
            "WARNING:tensorflow:No training configuration found in the save file, so the model was *not* compiled. Compile it manually.\n",
            "WARNING:tensorflow:6 out of the last 11 calls to <function Model.make_predict_function.<locals>.predict_function at 0x7f204ae3a8c0> triggered tf.function retracing. Tracing is expensive and the excessive number of tracings could be due to (1) creating @tf.function repeatedly in a loop, (2) passing tensors with different shapes, (3) passing Python objects instead of tensors. For (1), please define your @tf.function outside of the loop. For (2), @tf.function has experimental_relax_shapes=True option that relaxes argument shapes that can avoid unnecessary retracing. For (3), please refer to https://www.tensorflow.org/guide/function#controlling_retracing and https://www.tensorflow.org/api_docs/python/tf/function for  more details.\n"
          ]
        },
        {
          "output_type": "execute_result",
          "data": {
            "application/vnd.google.colaboratory.intrinsic+json": {
              "type": "string"
            },
            "text/plain": [
              "'50_note'"
            ]
          },
          "metadata": {},
          "execution_count": 46
        }
      ]
    },
    {
      "cell_type": "code",
      "source": [
        "import blosc\n",
        "import numpy as np\n",
        "import pickle\n",
        "\n",
        "pickled_data = pickle.dumps(model)  # returns data as a bytes object\n",
        "compressed_pickle = blosc.compress(pickled_data)\n",
        "\n",
        "with open(\"vgg_model.pkl\", \"wb\") as f:\n",
        "    f.write(compressed_pickle)"
      ],
      "metadata": {
        "colab": {
          "base_uri": "https://localhost:8080/"
        },
        "id": "4e7_bKabW3t4",
        "outputId": "d99d67fa-e7a1-4801-fead-7d7507170c6d"
      },
      "execution_count": 42,
      "outputs": [
        {
          "output_type": "stream",
          "name": "stdout",
          "text": [
            "INFO:tensorflow:Assets written to: ram://5a1f84e5-2ea1-4a7c-aa40-db6f51d0667b/assets\n"
          ]
        }
      ]
    },
    {
      "cell_type": "code",
      "source": [
        "import bz2\n",
        "import pickle\n",
        "import _pickle as cPickle\n",
        "\n",
        "# Pickle a file and then compress it into a file with extension \n",
        "def compressed_pickle(title, data):\n",
        " with bz2.BZ2File(title + '.pbz2', 'w') as f: \n",
        "   cPickle.dump(data, f)\n",
        "  "
      ],
      "metadata": {
        "id": "oLfm8VeMY7Tq"
      },
      "execution_count": 53,
      "outputs": []
    },
    {
      "cell_type": "code",
      "source": [
        "compressed_pickle('vgg_model_1', model)"
      ],
      "metadata": {
        "colab": {
          "base_uri": "https://localhost:8080/"
        },
        "id": "Go8zJUSVbrvs",
        "outputId": "6b54dbd4-1c44-4f83-b2a9-4a11e9ac39dd"
      },
      "execution_count": 55,
      "outputs": [
        {
          "output_type": "stream",
          "name": "stdout",
          "text": [
            "INFO:tensorflow:Assets written to: ram://0668bc4d-2564-4c32-8793-0ebdf66afcdd/assets\n"
          ]
        }
      ]
    },
    {
      "cell_type": "code",
      "source": [
        "abc = tf.keras.applications.mobilenet_v2.MobileNetV2()"
      ],
      "metadata": {
        "id": "4MC1kUMEcUqQ"
      },
      "execution_count": 56,
      "outputs": []
    },
    {
      "cell_type": "code",
      "source": [
        "model_4 = tf.keras.Sequential()"
      ],
      "metadata": {
        "id": "6VRkZseXeheP"
      },
      "execution_count": 69,
      "outputs": []
    },
    {
      "cell_type": "code",
      "source": [
        ""
      ],
      "metadata": {
        "colab": {
          "base_uri": "https://localhost:8080/",
          "height": 1000
        },
        "id": "CEifDc2Men1_",
        "outputId": "bb8e7869-d4cb-4609-beeb-19a48ca3f484"
      },
      "execution_count": 73,
      "outputs": [
        {
          "output_type": "stream",
          "name": "stdout",
          "text": [
            "WARNING:tensorflow:Sequential model inputs must come from `tf.keras.Input` (thus holding past layer metadata). They cannot be the output of a previous non-Input layer. Here, a tensor specified as input to \"sequential_6\" was not an Input tensor, it was generated by layer \"input_3\".\n",
            "Note that input tensors are instantiated via `tensor = tf.keras.Input(shape)`.\n",
            "The tensor that caused the issue was: KerasTensor(type_spec=TensorSpec(shape=(None, 224, 224, 3), dtype=tf.float32, name='input_3'), name='input_3', description=\"created by layer 'input_3'\")\n",
            "WARNING:tensorflow:Sequential model inputs must come from `tf.keras.Input` (thus holding past layer metadata). They cannot be the output of a previous non-Input layer. Here, a tensor specified as input to \"sequential_6\" was not an Input tensor, it was generated by layer \"input_3\".\n",
            "Note that input tensors are instantiated via `tensor = tf.keras.Input(shape)`.\n",
            "The tensor that caused the issue was: KerasTensor(type_spec=TensorSpec(shape=(None, 224, 224, 3), dtype=tf.float32, name='input_3'), name='input_3', description=\"created by layer 'input_3'\")\n",
            "WARNING:tensorflow:Sequential model inputs must come from `tf.keras.Input` (thus holding past layer metadata). They cannot be the output of a previous non-Input layer. Here, a tensor specified as input to \"sequential_6\" was not an Input tensor, it was generated by layer \"input_3\".\n",
            "Note that input tensors are instantiated via `tensor = tf.keras.Input(shape)`.\n",
            "The tensor that caused the issue was: KerasTensor(type_spec=TensorSpec(shape=(None, 224, 224, 3), dtype=tf.float32, name='input_3'), name='input_3', description=\"created by layer 'input_3'\")\n",
            "WARNING:tensorflow:Sequential model inputs must come from `tf.keras.Input` (thus holding past layer metadata). They cannot be the output of a previous non-Input layer. Here, a tensor specified as input to \"sequential_6\" was not an Input tensor, it was generated by layer \"input_3\".\n",
            "Note that input tensors are instantiated via `tensor = tf.keras.Input(shape)`.\n",
            "The tensor that caused the issue was: KerasTensor(type_spec=TensorSpec(shape=(None, 224, 224, 3), dtype=tf.float32, name='input_3'), name='input_3', description=\"created by layer 'input_3'\")\n",
            "WARNING:tensorflow:Sequential model inputs must come from `tf.keras.Input` (thus holding past layer metadata). They cannot be the output of a previous non-Input layer. Here, a tensor specified as input to \"sequential_6\" was not an Input tensor, it was generated by layer \"input_3\".\n",
            "Note that input tensors are instantiated via `tensor = tf.keras.Input(shape)`.\n",
            "The tensor that caused the issue was: KerasTensor(type_spec=TensorSpec(shape=(None, 224, 224, 3), dtype=tf.float32, name='input_3'), name='input_3', description=\"created by layer 'input_3'\")\n",
            "WARNING:tensorflow:Sequential model inputs must come from `tf.keras.Input` (thus holding past layer metadata). They cannot be the output of a previous non-Input layer. Here, a tensor specified as input to \"sequential_6\" was not an Input tensor, it was generated by layer \"input_3\".\n",
            "Note that input tensors are instantiated via `tensor = tf.keras.Input(shape)`.\n",
            "The tensor that caused the issue was: KerasTensor(type_spec=TensorSpec(shape=(None, 224, 224, 3), dtype=tf.float32, name='input_3'), name='input_3', description=\"created by layer 'input_3'\")\n",
            "WARNING:tensorflow:Sequential model inputs must come from `tf.keras.Input` (thus holding past layer metadata). They cannot be the output of a previous non-Input layer. Here, a tensor specified as input to \"sequential_6\" was not an Input tensor, it was generated by layer \"input_3\".\n",
            "Note that input tensors are instantiated via `tensor = tf.keras.Input(shape)`.\n",
            "The tensor that caused the issue was: KerasTensor(type_spec=TensorSpec(shape=(None, 224, 224, 3), dtype=tf.float32, name='input_3'), name='input_3', description=\"created by layer 'input_3'\")\n",
            "WARNING:tensorflow:Sequential model inputs must come from `tf.keras.Input` (thus holding past layer metadata). They cannot be the output of a previous non-Input layer. Here, a tensor specified as input to \"sequential_6\" was not an Input tensor, it was generated by layer \"input_3\".\n",
            "Note that input tensors are instantiated via `tensor = tf.keras.Input(shape)`.\n",
            "The tensor that caused the issue was: KerasTensor(type_spec=TensorSpec(shape=(None, 224, 224, 3), dtype=tf.float32, name='input_3'), name='input_3', description=\"created by layer 'input_3'\")\n",
            "WARNING:tensorflow:Sequential model inputs must come from `tf.keras.Input` (thus holding past layer metadata). They cannot be the output of a previous non-Input layer. Here, a tensor specified as input to \"sequential_6\" was not an Input tensor, it was generated by layer \"input_3\".\n",
            "Note that input tensors are instantiated via `tensor = tf.keras.Input(shape)`.\n",
            "The tensor that caused the issue was: KerasTensor(type_spec=TensorSpec(shape=(None, 224, 224, 3), dtype=tf.float32, name='input_3'), name='input_3', description=\"created by layer 'input_3'\")\n",
            "WARNING:tensorflow:Sequential model inputs must come from `tf.keras.Input` (thus holding past layer metadata). They cannot be the output of a previous non-Input layer. Here, a tensor specified as input to \"sequential_6\" was not an Input tensor, it was generated by layer \"input_3\".\n",
            "Note that input tensors are instantiated via `tensor = tf.keras.Input(shape)`.\n",
            "The tensor that caused the issue was: KerasTensor(type_spec=TensorSpec(shape=(None, 224, 224, 3), dtype=tf.float32, name='input_3'), name='input_3', description=\"created by layer 'input_3'\")\n",
            "WARNING:tensorflow:Sequential model inputs must come from `tf.keras.Input` (thus holding past layer metadata). They cannot be the output of a previous non-Input layer. Here, a tensor specified as input to \"sequential_6\" was not an Input tensor, it was generated by layer \"input_3\".\n",
            "Note that input tensors are instantiated via `tensor = tf.keras.Input(shape)`.\n",
            "The tensor that caused the issue was: KerasTensor(type_spec=TensorSpec(shape=(None, 224, 224, 3), dtype=tf.float32, name='input_3'), name='input_3', description=\"created by layer 'input_3'\")\n",
            "WARNING:tensorflow:Sequential model inputs must come from `tf.keras.Input` (thus holding past layer metadata). They cannot be the output of a previous non-Input layer. Here, a tensor specified as input to \"sequential_6\" was not an Input tensor, it was generated by layer \"input_3\".\n",
            "Note that input tensors are instantiated via `tensor = tf.keras.Input(shape)`.\n",
            "The tensor that caused the issue was: KerasTensor(type_spec=TensorSpec(shape=(None, 224, 224, 3), dtype=tf.float32, name='input_3'), name='input_3', description=\"created by layer 'input_3'\")\n",
            "WARNING:tensorflow:Sequential model inputs must come from `tf.keras.Input` (thus holding past layer metadata). They cannot be the output of a previous non-Input layer. Here, a tensor specified as input to \"sequential_6\" was not an Input tensor, it was generated by layer \"input_3\".\n",
            "Note that input tensors are instantiated via `tensor = tf.keras.Input(shape)`.\n",
            "The tensor that caused the issue was: KerasTensor(type_spec=TensorSpec(shape=(None, 224, 224, 3), dtype=tf.float32, name='input_3'), name='input_3', description=\"created by layer 'input_3'\")\n",
            "WARNING:tensorflow:Sequential model inputs must come from `tf.keras.Input` (thus holding past layer metadata). They cannot be the output of a previous non-Input layer. Here, a tensor specified as input to \"sequential_6\" was not an Input tensor, it was generated by layer \"input_3\".\n",
            "Note that input tensors are instantiated via `tensor = tf.keras.Input(shape)`.\n",
            "The tensor that caused the issue was: KerasTensor(type_spec=TensorSpec(shape=(None, 224, 224, 3), dtype=tf.float32, name='input_3'), name='input_3', description=\"created by layer 'input_3'\")\n",
            "WARNING:tensorflow:Sequential model inputs must come from `tf.keras.Input` (thus holding past layer metadata). They cannot be the output of a previous non-Input layer. Here, a tensor specified as input to \"sequential_6\" was not an Input tensor, it was generated by layer \"input_3\".\n",
            "Note that input tensors are instantiated via `tensor = tf.keras.Input(shape)`.\n",
            "The tensor that caused the issue was: KerasTensor(type_spec=TensorSpec(shape=(None, 224, 224, 3), dtype=tf.float32, name='input_3'), name='input_3', description=\"created by layer 'input_3'\")\n",
            "WARNING:tensorflow:Sequential model inputs must come from `tf.keras.Input` (thus holding past layer metadata). They cannot be the output of a previous non-Input layer. Here, a tensor specified as input to \"sequential_6\" was not an Input tensor, it was generated by layer \"input_3\".\n",
            "Note that input tensors are instantiated via `tensor = tf.keras.Input(shape)`.\n",
            "The tensor that caused the issue was: KerasTensor(type_spec=TensorSpec(shape=(None, 224, 224, 3), dtype=tf.float32, name='input_3'), name='input_3', description=\"created by layer 'input_3'\")\n",
            "WARNING:tensorflow:Sequential model inputs must come from `tf.keras.Input` (thus holding past layer metadata). They cannot be the output of a previous non-Input layer. Here, a tensor specified as input to \"sequential_6\" was not an Input tensor, it was generated by layer \"input_3\".\n",
            "Note that input tensors are instantiated via `tensor = tf.keras.Input(shape)`.\n",
            "The tensor that caused the issue was: KerasTensor(type_spec=TensorSpec(shape=(None, 224, 224, 3), dtype=tf.float32, name='input_3'), name='input_3', description=\"created by layer 'input_3'\")\n",
            "WARNING:tensorflow:Sequential model inputs must come from `tf.keras.Input` (thus holding past layer metadata). They cannot be the output of a previous non-Input layer. Here, a tensor specified as input to \"sequential_6\" was not an Input tensor, it was generated by layer \"input_3\".\n",
            "Note that input tensors are instantiated via `tensor = tf.keras.Input(shape)`.\n",
            "The tensor that caused the issue was: KerasTensor(type_spec=TensorSpec(shape=(None, 224, 224, 3), dtype=tf.float32, name='input_3'), name='input_3', description=\"created by layer 'input_3'\")\n",
            "WARNING:tensorflow:Sequential model inputs must come from `tf.keras.Input` (thus holding past layer metadata). They cannot be the output of a previous non-Input layer. Here, a tensor specified as input to \"sequential_6\" was not an Input tensor, it was generated by layer \"input_3\".\n",
            "Note that input tensors are instantiated via `tensor = tf.keras.Input(shape)`.\n",
            "The tensor that caused the issue was: KerasTensor(type_spec=TensorSpec(shape=(None, 224, 224, 3), dtype=tf.float32, name='input_3'), name='input_3', description=\"created by layer 'input_3'\")\n",
            "WARNING:tensorflow:Sequential model inputs must come from `tf.keras.Input` (thus holding past layer metadata). They cannot be the output of a previous non-Input layer. Here, a tensor specified as input to \"sequential_6\" was not an Input tensor, it was generated by layer \"input_3\".\n",
            "Note that input tensors are instantiated via `tensor = tf.keras.Input(shape)`.\n",
            "The tensor that caused the issue was: KerasTensor(type_spec=TensorSpec(shape=(None, 224, 224, 3), dtype=tf.float32, name='input_3'), name='input_3', description=\"created by layer 'input_3'\")\n",
            "WARNING:tensorflow:Sequential model inputs must come from `tf.keras.Input` (thus holding past layer metadata). They cannot be the output of a previous non-Input layer. Here, a tensor specified as input to \"sequential_6\" was not an Input tensor, it was generated by layer \"input_3\".\n",
            "Note that input tensors are instantiated via `tensor = tf.keras.Input(shape)`.\n",
            "The tensor that caused the issue was: KerasTensor(type_spec=TensorSpec(shape=(None, 224, 224, 3), dtype=tf.float32, name='input_3'), name='input_3', description=\"created by layer 'input_3'\")\n",
            "WARNING:tensorflow:Sequential model inputs must come from `tf.keras.Input` (thus holding past layer metadata). They cannot be the output of a previous non-Input layer. Here, a tensor specified as input to \"sequential_6\" was not an Input tensor, it was generated by layer \"input_3\".\n",
            "Note that input tensors are instantiated via `tensor = tf.keras.Input(shape)`.\n",
            "The tensor that caused the issue was: KerasTensor(type_spec=TensorSpec(shape=(None, 224, 224, 3), dtype=tf.float32, name='input_3'), name='input_3', description=\"created by layer 'input_3'\")\n",
            "WARNING:tensorflow:Sequential model inputs must come from `tf.keras.Input` (thus holding past layer metadata). They cannot be the output of a previous non-Input layer. Here, a tensor specified as input to \"sequential_6\" was not an Input tensor, it was generated by layer \"input_3\".\n",
            "Note that input tensors are instantiated via `tensor = tf.keras.Input(shape)`.\n",
            "The tensor that caused the issue was: KerasTensor(type_spec=TensorSpec(shape=(None, 224, 224, 3), dtype=tf.float32, name='input_3'), name='input_3', description=\"created by layer 'input_3'\")\n",
            "WARNING:tensorflow:Sequential model inputs must come from `tf.keras.Input` (thus holding past layer metadata). They cannot be the output of a previous non-Input layer. Here, a tensor specified as input to \"sequential_6\" was not an Input tensor, it was generated by layer \"input_3\".\n",
            "Note that input tensors are instantiated via `tensor = tf.keras.Input(shape)`.\n",
            "The tensor that caused the issue was: KerasTensor(type_spec=TensorSpec(shape=(None, 224, 224, 3), dtype=tf.float32, name='input_3'), name='input_3', description=\"created by layer 'input_3'\")\n",
            "WARNING:tensorflow:Sequential model inputs must come from `tf.keras.Input` (thus holding past layer metadata). They cannot be the output of a previous non-Input layer. Here, a tensor specified as input to \"sequential_6\" was not an Input tensor, it was generated by layer \"input_3\".\n",
            "Note that input tensors are instantiated via `tensor = tf.keras.Input(shape)`.\n",
            "The tensor that caused the issue was: KerasTensor(type_spec=TensorSpec(shape=(None, 224, 224, 3), dtype=tf.float32, name='input_3'), name='input_3', description=\"created by layer 'input_3'\")\n",
            "WARNING:tensorflow:Sequential model inputs must come from `tf.keras.Input` (thus holding past layer metadata). They cannot be the output of a previous non-Input layer. Here, a tensor specified as input to \"sequential_6\" was not an Input tensor, it was generated by layer \"input_3\".\n",
            "Note that input tensors are instantiated via `tensor = tf.keras.Input(shape)`.\n",
            "The tensor that caused the issue was: KerasTensor(type_spec=TensorSpec(shape=(None, 224, 224, 3), dtype=tf.float32, name='input_3'), name='input_3', description=\"created by layer 'input_3'\")\n"
          ]
        },
        {
          "output_type": "error",
          "ename": "ValueError",
          "evalue": "ignored",
          "traceback": [
            "\u001b[0;31m---------------------------------------------------------------------------\u001b[0m",
            "\u001b[0;31mValueError\u001b[0m                                Traceback (most recent call last)",
            "\u001b[0;32m<ipython-input-73-7ccd32546871>\u001b[0m in \u001b[0;36m<module>\u001b[0;34m()\u001b[0m\n\u001b[1;32m      1\u001b[0m \u001b[0;32mfor\u001b[0m \u001b[0mi\u001b[0m \u001b[0;32min\u001b[0m \u001b[0mrange\u001b[0m \u001b[0;34m(\u001b[0m\u001b[0mlen\u001b[0m\u001b[0;34m(\u001b[0m\u001b[0mabc\u001b[0m\u001b[0;34m.\u001b[0m\u001b[0mlayers\u001b[0m\u001b[0;34m)\u001b[0m \u001b[0;34m-\u001b[0m \u001b[0;36m1\u001b[0m\u001b[0;34m)\u001b[0m\u001b[0;34m:\u001b[0m\u001b[0;34m\u001b[0m\u001b[0;34m\u001b[0m\u001b[0m\n\u001b[0;32m----> 2\u001b[0;31m   \u001b[0mmodel_4\u001b[0m\u001b[0;34m.\u001b[0m\u001b[0madd\u001b[0m\u001b[0;34m(\u001b[0m\u001b[0mabc\u001b[0m\u001b[0;34m.\u001b[0m\u001b[0mlayers\u001b[0m\u001b[0;34m[\u001b[0m\u001b[0mi\u001b[0m\u001b[0;34m]\u001b[0m\u001b[0;34m)\u001b[0m\u001b[0;34m\u001b[0m\u001b[0;34m\u001b[0m\u001b[0m\n\u001b[0m",
            "\u001b[0;32m/usr/local/lib/python3.7/dist-packages/tensorflow/python/training/tracking/base.py\u001b[0m in \u001b[0;36m_method_wrapper\u001b[0;34m(self, *args, **kwargs)\u001b[0m\n\u001b[1;32m    528\u001b[0m     \u001b[0mself\u001b[0m\u001b[0;34m.\u001b[0m\u001b[0m_self_setattr_tracking\u001b[0m \u001b[0;34m=\u001b[0m \u001b[0;32mFalse\u001b[0m  \u001b[0;31m# pylint: disable=protected-access\u001b[0m\u001b[0;34m\u001b[0m\u001b[0;34m\u001b[0m\u001b[0m\n\u001b[1;32m    529\u001b[0m     \u001b[0;32mtry\u001b[0m\u001b[0;34m:\u001b[0m\u001b[0;34m\u001b[0m\u001b[0;34m\u001b[0m\u001b[0m\n\u001b[0;32m--> 530\u001b[0;31m       \u001b[0mresult\u001b[0m \u001b[0;34m=\u001b[0m \u001b[0mmethod\u001b[0m\u001b[0;34m(\u001b[0m\u001b[0mself\u001b[0m\u001b[0;34m,\u001b[0m \u001b[0;34m*\u001b[0m\u001b[0margs\u001b[0m\u001b[0;34m,\u001b[0m \u001b[0;34m**\u001b[0m\u001b[0mkwargs\u001b[0m\u001b[0;34m)\u001b[0m\u001b[0;34m\u001b[0m\u001b[0;34m\u001b[0m\u001b[0m\n\u001b[0m\u001b[1;32m    531\u001b[0m     \u001b[0;32mfinally\u001b[0m\u001b[0;34m:\u001b[0m\u001b[0;34m\u001b[0m\u001b[0;34m\u001b[0m\u001b[0m\n\u001b[1;32m    532\u001b[0m       \u001b[0mself\u001b[0m\u001b[0;34m.\u001b[0m\u001b[0m_self_setattr_tracking\u001b[0m \u001b[0;34m=\u001b[0m \u001b[0mprevious_value\u001b[0m  \u001b[0;31m# pylint: disable=protected-access\u001b[0m\u001b[0;34m\u001b[0m\u001b[0;34m\u001b[0m\u001b[0m\n",
            "\u001b[0;32m/usr/local/lib/python3.7/dist-packages/keras/utils/traceback_utils.py\u001b[0m in \u001b[0;36merror_handler\u001b[0;34m(*args, **kwargs)\u001b[0m\n\u001b[1;32m     65\u001b[0m     \u001b[0;32mexcept\u001b[0m \u001b[0mException\u001b[0m \u001b[0;32mas\u001b[0m \u001b[0me\u001b[0m\u001b[0;34m:\u001b[0m  \u001b[0;31m# pylint: disable=broad-except\u001b[0m\u001b[0;34m\u001b[0m\u001b[0;34m\u001b[0m\u001b[0m\n\u001b[1;32m     66\u001b[0m       \u001b[0mfiltered_tb\u001b[0m \u001b[0;34m=\u001b[0m \u001b[0m_process_traceback_frames\u001b[0m\u001b[0;34m(\u001b[0m\u001b[0me\u001b[0m\u001b[0;34m.\u001b[0m\u001b[0m__traceback__\u001b[0m\u001b[0;34m)\u001b[0m\u001b[0;34m\u001b[0m\u001b[0;34m\u001b[0m\u001b[0m\n\u001b[0;32m---> 67\u001b[0;31m       \u001b[0;32mraise\u001b[0m \u001b[0me\u001b[0m\u001b[0;34m.\u001b[0m\u001b[0mwith_traceback\u001b[0m\u001b[0;34m(\u001b[0m\u001b[0mfiltered_tb\u001b[0m\u001b[0;34m)\u001b[0m \u001b[0;32mfrom\u001b[0m \u001b[0;32mNone\u001b[0m\u001b[0;34m\u001b[0m\u001b[0;34m\u001b[0m\u001b[0m\n\u001b[0m\u001b[1;32m     68\u001b[0m     \u001b[0;32mfinally\u001b[0m\u001b[0;34m:\u001b[0m\u001b[0;34m\u001b[0m\u001b[0;34m\u001b[0m\u001b[0m\n\u001b[1;32m     69\u001b[0m       \u001b[0;32mdel\u001b[0m \u001b[0mfiltered_tb\u001b[0m\u001b[0;34m\u001b[0m\u001b[0;34m\u001b[0m\u001b[0m\n",
            "\u001b[0;32m/usr/local/lib/python3.7/dist-packages/keras/layers/merge.py\u001b[0m in \u001b[0;36mcall\u001b[0;34m(self, inputs)\u001b[0m\n\u001b[1;32m    119\u001b[0m     \u001b[0;32mif\u001b[0m \u001b[0;32mnot\u001b[0m \u001b[0misinstance\u001b[0m\u001b[0;34m(\u001b[0m\u001b[0minputs\u001b[0m\u001b[0;34m,\u001b[0m \u001b[0;34m(\u001b[0m\u001b[0mlist\u001b[0m\u001b[0;34m,\u001b[0m \u001b[0mtuple\u001b[0m\u001b[0;34m)\u001b[0m\u001b[0;34m)\u001b[0m\u001b[0;34m:\u001b[0m\u001b[0;34m\u001b[0m\u001b[0;34m\u001b[0m\u001b[0m\n\u001b[1;32m    120\u001b[0m       raise ValueError(\n\u001b[0;32m--> 121\u001b[0;31m           \u001b[0;34m'A merge layer should be called on a list of inputs. '\u001b[0m\u001b[0;34m\u001b[0m\u001b[0;34m\u001b[0m\u001b[0m\n\u001b[0m\u001b[1;32m    122\u001b[0m           f'Received: inputs={inputs} (not a list of tensors)')\n\u001b[1;32m    123\u001b[0m     \u001b[0;32mif\u001b[0m \u001b[0mself\u001b[0m\u001b[0;34m.\u001b[0m\u001b[0m_reshape_required\u001b[0m\u001b[0;34m:\u001b[0m\u001b[0;34m\u001b[0m\u001b[0;34m\u001b[0m\u001b[0m\n",
            "\u001b[0;31mValueError\u001b[0m: Exception encountered when calling layer \"block_2_add\" (type Add).\n\nA merge layer should be called on a list of inputs. Received: inputs=Tensor(\"Placeholder:0\", shape=(None, 14, 14, 24), dtype=float32) (not a list of tensors)\n\nCall arguments received:\n  • inputs=tf.Tensor(shape=(None, 14, 14, 24), dtype=float32)"
          ]
        }
      ]
    },
    {
      "cell_type": "code",
      "source": [
        "len(abc.layers)"
      ],
      "metadata": {
        "colab": {
          "base_uri": "https://localhost:8080/"
        },
        "id": "FvMIamO0escZ",
        "outputId": "71c1a815-77da-4d76-a9f9-074fbda9bd34"
      },
      "execution_count": 72,
      "outputs": [
        {
          "output_type": "execute_result",
          "data": {
            "text/plain": [
              "156"
            ]
          },
          "metadata": {},
          "execution_count": 72
        }
      ]
    },
    {
      "cell_type": "code",
      "source": [
        "abc.compile(optimizer=\"adam\", loss=\"categorical_crossentropy\", metrics=\"accuracy\" )"
      ],
      "metadata": {
        "id": "vndAscT5h2cz"
      },
      "execution_count": 76,
      "outputs": []
    },
    {
      "cell_type": "code",
      "source": [
        ""
      ],
      "metadata": {
        "id": "qL0SYi4nikWS"
      },
      "execution_count": null,
      "outputs": []
    }
  ]
}